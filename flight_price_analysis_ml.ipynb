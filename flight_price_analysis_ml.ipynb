{
  "nbformat": 4,
  "nbformat_minor": 0,
  "metadata": {
    "colab": {
      "provenance": []
    },
    "kernelspec": {
      "name": "python3",
      "display_name": "Python 3"
    },
    "language_info": {
      "name": "python"
    }
  },
  "cells": [
    {
      "cell_type": "markdown",
      "source": [
        "#Machine Learning Practice Week 1\n",
        "Practice Assignment"
      ],
      "metadata": {
        "id": "VQvUXSQV3B3a"
      }
    },
    {
      "cell_type": "markdown",
      "source": [
        "# 📝Flight Price Prediction\n",
        "\n",
        "## 📌 Notes:\n",
        "- ✅ **Expected dataset shape**: `(9450, 13)`  \n",
        "  > _If you're not getting this shape, your data may not have uploaded correctly to Colab._\n",
        "- 🎯 **Target variable**: `'Price'`\n",
        "- 🧪 **Use `random_state = 42`** wherever applicable for reproducibility.\n",
        "- ⚠️ **Ignore all warnings** while executing the code.\n",
        "\n",
        "---\n",
        "\n",
        "## 📂 Dataset Metadata:\n",
        "\n",
        "| Column Name       | Description                                                    |\n",
        "|-------------------|----------------------------------------------------------------|\n",
        "| **Airline**       | The name of the airline                                        |\n",
        "| **Source**        | The source from which the service begins                       |\n",
        "| **Destination**   | The destination where the service ends                         |\n",
        "| **Route**         | Route the flight took                                          |\n",
        "| **Dep_Time**      | Time when the journey starts from the source                   |\n",
        "| **Arrival_Time**  | Time of arrival at the destination                             |\n",
        "| **Duration**      | Total duration of the flight                                   |\n",
        "| **Total_Stops**   | Total stops between source and destination                     |\n",
        "| **Additional_Info** | Additional information about the flight                     |\n",
        "| **Price**         | 💰 **Target variable** – the price of the ticket               |\n",
        "| **Month**         | Month of the journey                                           |\n",
        "| **WeekDay**       | Day on which the journey started                               |\n",
        "| **Day**           | Date of the start of the journey                               |\n",
        "\n",
        "---\n",
        "\n",
        "🔗 **[Click here to view the dataset](https://drive.google.com/file/u/2/d/1zP38WCdZQ9StsAHTTLk72763QJQkhWrG/view?usp=drive_link)**  \n"
      ],
      "metadata": {
        "id": "_xaQvc4q-wLS"
      }
    },
    {
      "cell_type": "code",
      "source": [
        "import pandas as pd\n",
        "import numpy as np"
      ],
      "metadata": {
        "id": "mwB3joFdAkFj"
      },
      "execution_count": 1,
      "outputs": []
    },
    {
      "cell_type": "code",
      "source": [
        "df = pd.read_csv(\"/content/Preprocessing1.csv\")"
      ],
      "metadata": {
        "id": "Ftzvuqa7Ats9"
      },
      "execution_count": 2,
      "outputs": []
    },
    {
      "cell_type": "code",
      "source": [
        "df.shape"
      ],
      "metadata": {
        "colab": {
          "base_uri": "https://localhost:8080/"
        },
        "id": "TpRGJuTZweRg",
        "outputId": "5801dbda-dd6d-4308-eef3-3f618ace6bfc"
      },
      "execution_count": 3,
      "outputs": [
        {
          "output_type": "execute_result",
          "data": {
            "text/plain": [
              "(9450, 13)"
            ]
          },
          "metadata": {},
          "execution_count": 3
        }
      ]
    },
    {
      "cell_type": "code",
      "source": [
        "df.head()"
      ],
      "metadata": {
        "colab": {
          "base_uri": "https://localhost:8080/",
          "height": 258
        },
        "id": "jMBoS5kfA54m",
        "outputId": "a016b8a3-d65d-47fc-fa8b-ad027fc92d1a"
      },
      "execution_count": null,
      "outputs": [
        {
          "output_type": "execute_result",
          "data": {
            "text/plain": [
              "             Airline  Source Destination            Route Dep_Time  \\\n",
              "0        Jet Airways   Delhi    Banglore  DEL → BOM → COK    20:00   \n",
              "1        Jet Airways   Delhi      Cochin  DEL → BOM → COK    16:00   \n",
              "2        Jet Airways  Mumbai   Hyderabad        BOM → HYD    19:35   \n",
              "3  Multiple carriers   Delhi    Banglore  DEL → BOM → COK    18:55   \n",
              "4          Air India   Delhi      Cochin        DEL → COK    17:10   \n",
              "\n",
              "   Arrival_Time Duration Total_Stops              Additional_Info  Price  \\\n",
              "0  04:25 10 Jun  26h 35m      1 stop  In-flight meal not included  14924   \n",
              "1  19:00 10 Jun      27h      1 stop  In-flight meal not included  10577   \n",
              "2         21:05   1h 30m    non-stop                      No info   5678   \n",
              "3  01:30 16 Jun  15h 10m      1 stop  In-flight meal not included   7408   \n",
              "4         17:55   8h 20m    non-stop                      No info   6724   \n",
              "\n",
              "   Month   WeekDay   Day  \n",
              "0      6  Thursday   6.0  \n",
              "1      6    Sunday   9.0  \n",
              "2      3    Friday  15.0  \n",
              "3      5    Monday   6.0  \n",
              "4      6    Monday  24.0  "
            ],
            "text/html": [
              "\n",
              "  <div id=\"df-70cbc157-1412-4be4-9868-f25f85fd5f07\" class=\"colab-df-container\">\n",
              "    <div>\n",
              "<style scoped>\n",
              "    .dataframe tbody tr th:only-of-type {\n",
              "        vertical-align: middle;\n",
              "    }\n",
              "\n",
              "    .dataframe tbody tr th {\n",
              "        vertical-align: top;\n",
              "    }\n",
              "\n",
              "    .dataframe thead th {\n",
              "        text-align: right;\n",
              "    }\n",
              "</style>\n",
              "<table border=\"1\" class=\"dataframe\">\n",
              "  <thead>\n",
              "    <tr style=\"text-align: right;\">\n",
              "      <th></th>\n",
              "      <th>Airline</th>\n",
              "      <th>Source</th>\n",
              "      <th>Destination</th>\n",
              "      <th>Route</th>\n",
              "      <th>Dep_Time</th>\n",
              "      <th>Arrival_Time</th>\n",
              "      <th>Duration</th>\n",
              "      <th>Total_Stops</th>\n",
              "      <th>Additional_Info</th>\n",
              "      <th>Price</th>\n",
              "      <th>Month</th>\n",
              "      <th>WeekDay</th>\n",
              "      <th>Day</th>\n",
              "    </tr>\n",
              "  </thead>\n",
              "  <tbody>\n",
              "    <tr>\n",
              "      <th>0</th>\n",
              "      <td>Jet Airways</td>\n",
              "      <td>Delhi</td>\n",
              "      <td>Banglore</td>\n",
              "      <td>DEL → BOM → COK</td>\n",
              "      <td>20:00</td>\n",
              "      <td>04:25 10 Jun</td>\n",
              "      <td>26h 35m</td>\n",
              "      <td>1 stop</td>\n",
              "      <td>In-flight meal not included</td>\n",
              "      <td>14924</td>\n",
              "      <td>6</td>\n",
              "      <td>Thursday</td>\n",
              "      <td>6.0</td>\n",
              "    </tr>\n",
              "    <tr>\n",
              "      <th>1</th>\n",
              "      <td>Jet Airways</td>\n",
              "      <td>Delhi</td>\n",
              "      <td>Cochin</td>\n",
              "      <td>DEL → BOM → COK</td>\n",
              "      <td>16:00</td>\n",
              "      <td>19:00 10 Jun</td>\n",
              "      <td>27h</td>\n",
              "      <td>1 stop</td>\n",
              "      <td>In-flight meal not included</td>\n",
              "      <td>10577</td>\n",
              "      <td>6</td>\n",
              "      <td>Sunday</td>\n",
              "      <td>9.0</td>\n",
              "    </tr>\n",
              "    <tr>\n",
              "      <th>2</th>\n",
              "      <td>Jet Airways</td>\n",
              "      <td>Mumbai</td>\n",
              "      <td>Hyderabad</td>\n",
              "      <td>BOM → HYD</td>\n",
              "      <td>19:35</td>\n",
              "      <td>21:05</td>\n",
              "      <td>1h 30m</td>\n",
              "      <td>non-stop</td>\n",
              "      <td>No info</td>\n",
              "      <td>5678</td>\n",
              "      <td>3</td>\n",
              "      <td>Friday</td>\n",
              "      <td>15.0</td>\n",
              "    </tr>\n",
              "    <tr>\n",
              "      <th>3</th>\n",
              "      <td>Multiple carriers</td>\n",
              "      <td>Delhi</td>\n",
              "      <td>Banglore</td>\n",
              "      <td>DEL → BOM → COK</td>\n",
              "      <td>18:55</td>\n",
              "      <td>01:30 16 Jun</td>\n",
              "      <td>15h 10m</td>\n",
              "      <td>1 stop</td>\n",
              "      <td>In-flight meal not included</td>\n",
              "      <td>7408</td>\n",
              "      <td>5</td>\n",
              "      <td>Monday</td>\n",
              "      <td>6.0</td>\n",
              "    </tr>\n",
              "    <tr>\n",
              "      <th>4</th>\n",
              "      <td>Air India</td>\n",
              "      <td>Delhi</td>\n",
              "      <td>Cochin</td>\n",
              "      <td>DEL → COK</td>\n",
              "      <td>17:10</td>\n",
              "      <td>17:55</td>\n",
              "      <td>8h 20m</td>\n",
              "      <td>non-stop</td>\n",
              "      <td>No info</td>\n",
              "      <td>6724</td>\n",
              "      <td>6</td>\n",
              "      <td>Monday</td>\n",
              "      <td>24.0</td>\n",
              "    </tr>\n",
              "  </tbody>\n",
              "</table>\n",
              "</div>\n",
              "    <div class=\"colab-df-buttons\">\n",
              "\n",
              "  <div class=\"colab-df-container\">\n",
              "    <button class=\"colab-df-convert\" onclick=\"convertToInteractive('df-70cbc157-1412-4be4-9868-f25f85fd5f07')\"\n",
              "            title=\"Convert this dataframe to an interactive table.\"\n",
              "            style=\"display:none;\">\n",
              "\n",
              "  <svg xmlns=\"http://www.w3.org/2000/svg\" height=\"24px\" viewBox=\"0 -960 960 960\">\n",
              "    <path d=\"M120-120v-720h720v720H120Zm60-500h600v-160H180v160Zm220 220h160v-160H400v160Zm0 220h160v-160H400v160ZM180-400h160v-160H180v160Zm440 0h160v-160H620v160ZM180-180h160v-160H180v160Zm440 0h160v-160H620v160Z\"/>\n",
              "  </svg>\n",
              "    </button>\n",
              "\n",
              "  <style>\n",
              "    .colab-df-container {\n",
              "      display:flex;\n",
              "      gap: 12px;\n",
              "    }\n",
              "\n",
              "    .colab-df-convert {\n",
              "      background-color: #E8F0FE;\n",
              "      border: none;\n",
              "      border-radius: 50%;\n",
              "      cursor: pointer;\n",
              "      display: none;\n",
              "      fill: #1967D2;\n",
              "      height: 32px;\n",
              "      padding: 0 0 0 0;\n",
              "      width: 32px;\n",
              "    }\n",
              "\n",
              "    .colab-df-convert:hover {\n",
              "      background-color: #E2EBFA;\n",
              "      box-shadow: 0px 1px 2px rgba(60, 64, 67, 0.3), 0px 1px 3px 1px rgba(60, 64, 67, 0.15);\n",
              "      fill: #174EA6;\n",
              "    }\n",
              "\n",
              "    .colab-df-buttons div {\n",
              "      margin-bottom: 4px;\n",
              "    }\n",
              "\n",
              "    [theme=dark] .colab-df-convert {\n",
              "      background-color: #3B4455;\n",
              "      fill: #D2E3FC;\n",
              "    }\n",
              "\n",
              "    [theme=dark] .colab-df-convert:hover {\n",
              "      background-color: #434B5C;\n",
              "      box-shadow: 0px 1px 3px 1px rgba(0, 0, 0, 0.15);\n",
              "      filter: drop-shadow(0px 1px 2px rgba(0, 0, 0, 0.3));\n",
              "      fill: #FFFFFF;\n",
              "    }\n",
              "  </style>\n",
              "\n",
              "    <script>\n",
              "      const buttonEl =\n",
              "        document.querySelector('#df-70cbc157-1412-4be4-9868-f25f85fd5f07 button.colab-df-convert');\n",
              "      buttonEl.style.display =\n",
              "        google.colab.kernel.accessAllowed ? 'block' : 'none';\n",
              "\n",
              "      async function convertToInteractive(key) {\n",
              "        const element = document.querySelector('#df-70cbc157-1412-4be4-9868-f25f85fd5f07');\n",
              "        const dataTable =\n",
              "          await google.colab.kernel.invokeFunction('convertToInteractive',\n",
              "                                                    [key], {});\n",
              "        if (!dataTable) return;\n",
              "\n",
              "        const docLinkHtml = 'Like what you see? Visit the ' +\n",
              "          '<a target=\"_blank\" href=https://colab.research.google.com/notebooks/data_table.ipynb>data table notebook</a>'\n",
              "          + ' to learn more about interactive tables.';\n",
              "        element.innerHTML = '';\n",
              "        dataTable['output_type'] = 'display_data';\n",
              "        await google.colab.output.renderOutput(dataTable, element);\n",
              "        const docLink = document.createElement('div');\n",
              "        docLink.innerHTML = docLinkHtml;\n",
              "        element.appendChild(docLink);\n",
              "      }\n",
              "    </script>\n",
              "  </div>\n",
              "\n",
              "\n",
              "<div id=\"df-522a0ebd-f643-4259-bb4f-c90b00d46e09\">\n",
              "  <button class=\"colab-df-quickchart\" onclick=\"quickchart('df-522a0ebd-f643-4259-bb4f-c90b00d46e09')\"\n",
              "            title=\"Suggest charts\"\n",
              "            style=\"display:none;\">\n",
              "\n",
              "<svg xmlns=\"http://www.w3.org/2000/svg\" height=\"24px\"viewBox=\"0 0 24 24\"\n",
              "     width=\"24px\">\n",
              "    <g>\n",
              "        <path d=\"M19 3H5c-1.1 0-2 .9-2 2v14c0 1.1.9 2 2 2h14c1.1 0 2-.9 2-2V5c0-1.1-.9-2-2-2zM9 17H7v-7h2v7zm4 0h-2V7h2v10zm4 0h-2v-4h2v4z\"/>\n",
              "    </g>\n",
              "</svg>\n",
              "  </button>\n",
              "\n",
              "<style>\n",
              "  .colab-df-quickchart {\n",
              "      --bg-color: #E8F0FE;\n",
              "      --fill-color: #1967D2;\n",
              "      --hover-bg-color: #E2EBFA;\n",
              "      --hover-fill-color: #174EA6;\n",
              "      --disabled-fill-color: #AAA;\n",
              "      --disabled-bg-color: #DDD;\n",
              "  }\n",
              "\n",
              "  [theme=dark] .colab-df-quickchart {\n",
              "      --bg-color: #3B4455;\n",
              "      --fill-color: #D2E3FC;\n",
              "      --hover-bg-color: #434B5C;\n",
              "      --hover-fill-color: #FFFFFF;\n",
              "      --disabled-bg-color: #3B4455;\n",
              "      --disabled-fill-color: #666;\n",
              "  }\n",
              "\n",
              "  .colab-df-quickchart {\n",
              "    background-color: var(--bg-color);\n",
              "    border: none;\n",
              "    border-radius: 50%;\n",
              "    cursor: pointer;\n",
              "    display: none;\n",
              "    fill: var(--fill-color);\n",
              "    height: 32px;\n",
              "    padding: 0;\n",
              "    width: 32px;\n",
              "  }\n",
              "\n",
              "  .colab-df-quickchart:hover {\n",
              "    background-color: var(--hover-bg-color);\n",
              "    box-shadow: 0 1px 2px rgba(60, 64, 67, 0.3), 0 1px 3px 1px rgba(60, 64, 67, 0.15);\n",
              "    fill: var(--button-hover-fill-color);\n",
              "  }\n",
              "\n",
              "  .colab-df-quickchart-complete:disabled,\n",
              "  .colab-df-quickchart-complete:disabled:hover {\n",
              "    background-color: var(--disabled-bg-color);\n",
              "    fill: var(--disabled-fill-color);\n",
              "    box-shadow: none;\n",
              "  }\n",
              "\n",
              "  .colab-df-spinner {\n",
              "    border: 2px solid var(--fill-color);\n",
              "    border-color: transparent;\n",
              "    border-bottom-color: var(--fill-color);\n",
              "    animation:\n",
              "      spin 1s steps(1) infinite;\n",
              "  }\n",
              "\n",
              "  @keyframes spin {\n",
              "    0% {\n",
              "      border-color: transparent;\n",
              "      border-bottom-color: var(--fill-color);\n",
              "      border-left-color: var(--fill-color);\n",
              "    }\n",
              "    20% {\n",
              "      border-color: transparent;\n",
              "      border-left-color: var(--fill-color);\n",
              "      border-top-color: var(--fill-color);\n",
              "    }\n",
              "    30% {\n",
              "      border-color: transparent;\n",
              "      border-left-color: var(--fill-color);\n",
              "      border-top-color: var(--fill-color);\n",
              "      border-right-color: var(--fill-color);\n",
              "    }\n",
              "    40% {\n",
              "      border-color: transparent;\n",
              "      border-right-color: var(--fill-color);\n",
              "      border-top-color: var(--fill-color);\n",
              "    }\n",
              "    60% {\n",
              "      border-color: transparent;\n",
              "      border-right-color: var(--fill-color);\n",
              "    }\n",
              "    80% {\n",
              "      border-color: transparent;\n",
              "      border-right-color: var(--fill-color);\n",
              "      border-bottom-color: var(--fill-color);\n",
              "    }\n",
              "    90% {\n",
              "      border-color: transparent;\n",
              "      border-bottom-color: var(--fill-color);\n",
              "    }\n",
              "  }\n",
              "</style>\n",
              "\n",
              "  <script>\n",
              "    async function quickchart(key) {\n",
              "      const quickchartButtonEl =\n",
              "        document.querySelector('#' + key + ' button');\n",
              "      quickchartButtonEl.disabled = true;  // To prevent multiple clicks.\n",
              "      quickchartButtonEl.classList.add('colab-df-spinner');\n",
              "      try {\n",
              "        const charts = await google.colab.kernel.invokeFunction(\n",
              "            'suggestCharts', [key], {});\n",
              "      } catch (error) {\n",
              "        console.error('Error during call to suggestCharts:', error);\n",
              "      }\n",
              "      quickchartButtonEl.classList.remove('colab-df-spinner');\n",
              "      quickchartButtonEl.classList.add('colab-df-quickchart-complete');\n",
              "    }\n",
              "    (() => {\n",
              "      let quickchartButtonEl =\n",
              "        document.querySelector('#df-522a0ebd-f643-4259-bb4f-c90b00d46e09 button');\n",
              "      quickchartButtonEl.style.display =\n",
              "        google.colab.kernel.accessAllowed ? 'block' : 'none';\n",
              "    })();\n",
              "  </script>\n",
              "</div>\n",
              "\n",
              "    </div>\n",
              "  </div>\n"
            ],
            "application/vnd.google.colaboratory.intrinsic+json": {
              "type": "dataframe",
              "variable_name": "df",
              "summary": "{\n  \"name\": \"df\",\n  \"rows\": 9450,\n  \"fields\": [\n    {\n      \"column\": \"Airline\",\n      \"properties\": {\n        \"dtype\": \"category\",\n        \"num_unique_values\": 11,\n        \"samples\": [\n          \"Vistara\",\n          \"Jet Airways\",\n          \"Jet Airways Business\"\n        ],\n        \"semantic_type\": \"\",\n        \"description\": \"\"\n      }\n    },\n    {\n      \"column\": \"Source\",\n      \"properties\": {\n        \"dtype\": \"category\",\n        \"num_unique_values\": 5,\n        \"samples\": [\n          \"Mumbai\",\n          \"Chennai\",\n          \"Banglore\"\n        ],\n        \"semantic_type\": \"\",\n        \"description\": \"\"\n      }\n    },\n    {\n      \"column\": \"Destination\",\n      \"properties\": {\n        \"dtype\": \"category\",\n        \"num_unique_values\": 6,\n        \"samples\": [\n          \"Banglore\",\n          \"Cochin\",\n          \"Kolkata\"\n        ],\n        \"semantic_type\": \"\",\n        \"description\": \"\"\n      }\n    },\n    {\n      \"column\": \"Route\",\n      \"properties\": {\n        \"dtype\": \"category\",\n        \"num_unique_values\": 115,\n        \"samples\": [\n          \"BOM \\u2192 BHO \\u2192 DEL \\u2192 HYD\",\n          \"CCU \\u2192 BOM \\u2192 BLR\",\n          \"CCU \\u2192 BBI \\u2192 HYD \\u2192 BLR\"\n        ],\n        \"semantic_type\": \"\",\n        \"description\": \"\"\n      }\n    },\n    {\n      \"column\": \"Dep_Time\",\n      \"properties\": {\n        \"dtype\": \"object\",\n        \"num_unique_values\": 217,\n        \"samples\": [\n          \"12:20\",\n          \"01:40\",\n          \"07:35\"\n        ],\n        \"semantic_type\": \"\",\n        \"description\": \"\"\n      }\n    },\n    {\n      \"column\": \"Arrival_Time\",\n      \"properties\": {\n        \"dtype\": \"object\",\n        \"num_unique_values\": 1084,\n        \"samples\": [\n          \"00:40 04 May\",\n          \"07:40\",\n          \"19:15 22 May\"\n        ],\n        \"semantic_type\": \"\",\n        \"description\": \"\"\n      }\n    },\n    {\n      \"column\": \"Duration\",\n      \"properties\": {\n        \"dtype\": \"category\",\n        \"num_unique_values\": 354,\n        \"samples\": [\n          \"7h 40m\",\n          \"20h 25m\",\n          \"41h 20m\"\n        ],\n        \"semantic_type\": \"\",\n        \"description\": \"\"\n      }\n    },\n    {\n      \"column\": \"Total_Stops\",\n      \"properties\": {\n        \"dtype\": \"category\",\n        \"num_unique_values\": 4,\n        \"samples\": [\n          \"non-stop\",\n          \"3 stops\",\n          \"1 stop\"\n        ],\n        \"semantic_type\": \"\",\n        \"description\": \"\"\n      }\n    },\n    {\n      \"column\": \"Additional_Info\",\n      \"properties\": {\n        \"dtype\": \"category\",\n        \"num_unique_values\": 9,\n        \"samples\": [\n          \"1 Short layover\",\n          \"No info\",\n          \"No Info\"\n        ],\n        \"semantic_type\": \"\",\n        \"description\": \"\"\n      }\n    },\n    {\n      \"column\": \"Price\",\n      \"properties\": {\n        \"dtype\": \"number\",\n        \"std\": 4466,\n        \"min\": 1759,\n        \"max\": 57209,\n        \"num_unique_values\": 1499,\n        \"samples\": [\n          6282,\n          9626,\n          7171\n        ],\n        \"semantic_type\": \"\",\n        \"description\": \"\"\n      }\n    },\n    {\n      \"column\": \"Month\",\n      \"properties\": {\n        \"dtype\": \"number\",\n        \"std\": 1,\n        \"min\": 3,\n        \"max\": 6,\n        \"num_unique_values\": 4,\n        \"samples\": [\n          3,\n          4,\n          6\n        ],\n        \"semantic_type\": \"\",\n        \"description\": \"\"\n      }\n    },\n    {\n      \"column\": \"WeekDay\",\n      \"properties\": {\n        \"dtype\": \"category\",\n        \"num_unique_values\": 7,\n        \"samples\": [\n          \"Thursday\",\n          \"Sunday\",\n          \"Wednesday\"\n        ],\n        \"semantic_type\": \"\",\n        \"description\": \"\"\n      }\n    },\n    {\n      \"column\": \"Day\",\n      \"properties\": {\n        \"dtype\": \"number\",\n        \"std\": 8.45979151495222,\n        \"min\": 1.0,\n        \"max\": 27.0,\n        \"num_unique_values\": 10,\n        \"samples\": [\n          3.0,\n          9.0,\n          12.0\n        ],\n        \"semantic_type\": \"\",\n        \"description\": \"\"\n      }\n    }\n  ]\n}"
            }
          },
          "metadata": {},
          "execution_count": 32
        }
      ]
    },
    {
      "cell_type": "markdown",
      "source": [
        "What is the average of the flight ticket price? Write your answer correct to two decimal places."
      ],
      "metadata": {
        "id": "ni3axPlP_e2F"
      }
    },
    {
      "cell_type": "code",
      "source": [
        "df[\"Price\"].mean()"
      ],
      "metadata": {
        "colab": {
          "base_uri": "https://localhost:8080/"
        },
        "id": "T-a8thdH_EWD",
        "outputId": "01ae55a9-446d-4db0-b7a6-2911d6a2e1d4"
      },
      "execution_count": null,
      "outputs": [
        {
          "output_type": "execute_result",
          "data": {
            "text/plain": [
              "np.float64(9027.895555555555)"
            ]
          },
          "metadata": {},
          "execution_count": 33
        }
      ]
    },
    {
      "cell_type": "markdown",
      "source": [
        "During which month did the highest number of flights occur? Months are represented by numerical codes, with January corresponding to 1, February to 2, and so forth."
      ],
      "metadata": {
        "id": "isSiRG9y_hTl"
      }
    },
    {
      "cell_type": "code",
      "source": [
        "df[\"Month\"].value_counts()"
      ],
      "metadata": {
        "colab": {
          "base_uri": "https://localhost:8080/",
          "height": 241
        },
        "id": "4hQzKi9j_hvU",
        "outputId": "74ca1430-e47b-419a-843a-1f5674616566"
      },
      "execution_count": null,
      "outputs": [
        {
          "output_type": "execute_result",
          "data": {
            "text/plain": [
              "Month\n",
              "5    3092\n",
              "6    3044\n",
              "3    2388\n",
              "4     926\n",
              "Name: count, dtype: int64"
            ],
            "text/html": [
              "<div>\n",
              "<style scoped>\n",
              "    .dataframe tbody tr th:only-of-type {\n",
              "        vertical-align: middle;\n",
              "    }\n",
              "\n",
              "    .dataframe tbody tr th {\n",
              "        vertical-align: top;\n",
              "    }\n",
              "\n",
              "    .dataframe thead th {\n",
              "        text-align: right;\n",
              "    }\n",
              "</style>\n",
              "<table border=\"1\" class=\"dataframe\">\n",
              "  <thead>\n",
              "    <tr style=\"text-align: right;\">\n",
              "      <th></th>\n",
              "      <th>count</th>\n",
              "    </tr>\n",
              "    <tr>\n",
              "      <th>Month</th>\n",
              "      <th></th>\n",
              "    </tr>\n",
              "  </thead>\n",
              "  <tbody>\n",
              "    <tr>\n",
              "      <th>5</th>\n",
              "      <td>3092</td>\n",
              "    </tr>\n",
              "    <tr>\n",
              "      <th>6</th>\n",
              "      <td>3044</td>\n",
              "    </tr>\n",
              "    <tr>\n",
              "      <th>3</th>\n",
              "      <td>2388</td>\n",
              "    </tr>\n",
              "    <tr>\n",
              "      <th>4</th>\n",
              "      <td>926</td>\n",
              "    </tr>\n",
              "  </tbody>\n",
              "</table>\n",
              "</div><br><label><b>dtype:</b> int64</label>"
            ]
          },
          "metadata": {},
          "execution_count": 34
        }
      ]
    },
    {
      "cell_type": "markdown",
      "source": [
        "Is the average price of flight tickets higher on weekends (Saturday and Sunday) or on weekdays (Remaining 5 days)?"
      ],
      "metadata": {
        "id": "QIrcRm7A_iUQ"
      }
    },
    {
      "cell_type": "code",
      "source": [
        "weekend_price = df[df[\"WeekDay\"].isin([\"Saturday\",\"Sunday\"])][\"Price\"].mean()\n",
        "weekday_price = df[df[\"WeekDay\"].isin([\"Monday\",\"Tuesday\",\"Wednesday\",\"Thursday\",\"Friday\"])][\"Price\"].mean()\n",
        "if weekday_price > weekend_price:\n",
        "  print(\"Weekdays\")\n",
        "else:\n",
        "  print(\"Weekends\")"
      ],
      "metadata": {
        "colab": {
          "base_uri": "https://localhost:8080/"
        },
        "id": "a4D_CNmv_jqt",
        "outputId": "91f85632-8a89-4af7-eb76-a4050d169e7c"
      },
      "execution_count": null,
      "outputs": [
        {
          "output_type": "stream",
          "name": "stdout",
          "text": [
            "Weekends\n"
          ]
        }
      ]
    },
    {
      "cell_type": "markdown",
      "source": [
        "\n",
        "Two of the entries in the 'Additional_Info' column are 'No info' and 'No Info'. Replace all occurrences of 'No Info' with 'No info'. How many flights fall under airline 'IndiGo' and have 'No info' as additional information?\n"
      ],
      "metadata": {
        "id": "TNSkCbGZ_km6"
      }
    },
    {
      "cell_type": "code",
      "source": [
        "df[\"Additional_Info\"] = df[\"Additional_Info\"].replace(\"No Info\", \"No info\")\n",
        "df[(df[\"Airline\"]==\"IndiGo\") & (df[\"Additional_Info\"]==\"No info\")].shape[0]"
      ],
      "metadata": {
        "colab": {
          "base_uri": "https://localhost:8080/"
        },
        "id": "cGF92qcI_nDw",
        "outputId": "09b9de01-b6d5-4db3-e9b4-74d0068178b0"
      },
      "execution_count": null,
      "outputs": [
        {
          "output_type": "execute_result",
          "data": {
            "text/plain": [
              "1650"
            ]
          },
          "metadata": {},
          "execution_count": 36
        }
      ]
    },
    {
      "cell_type": "markdown",
      "source": [
        "\n",
        "Convert the values of 'Duration' into seconds. Enter the average duration (in seconds) of a flight. Enter your answer correct to two decimal places"
      ],
      "metadata": {
        "id": "rbnICWu5_ou_"
      }
    },
    {
      "cell_type": "code",
      "source": [
        "def convert_to_seconds(duration):\n",
        "    hours = 0\n",
        "    minutes = 0\n",
        "    parts = duration.split()\n",
        "    for part in parts:\n",
        "        if 'h' in part:\n",
        "            hours = int(part[:-1])\n",
        "        elif 'm' in part:\n",
        "            minutes = int(part[:-1])\n",
        "    return hours * 3600 + minutes * 60\n",
        "\n",
        "df['Duration_seconds'] = df['Duration'].apply(convert_to_seconds)\n",
        "average_duration = df['Duration_seconds'].mean()\n",
        "average_duration"
      ],
      "metadata": {
        "id": "x4d7CVgj_pF5",
        "colab": {
          "base_uri": "https://localhost:8080/"
        },
        "outputId": "8e459976-5ea2-4a66-a905-9ea45800d4dc"
      },
      "execution_count": null,
      "outputs": [
        {
          "output_type": "execute_result",
          "data": {
            "text/plain": [
              "np.float64(38957.93650793651)"
            ]
          },
          "metadata": {},
          "execution_count": 37
        }
      ]
    },
    {
      "cell_type": "markdown",
      "source": [
        "## 🕐 Time Column Transformation Instructions\n",
        "\n",
        "### 🔧 Task:\n",
        "Apply the following transformations to the columns **`Dep_Time`** and **`Arrival_Time`**:\n",
        "\n",
        "1. **Extract Hour Component:**\n",
        "   - Convert the time values to represent only the **hour** part.\n",
        "   - Example:  \n",
        "     - `'10:05'` → `10`  \n",
        "     - `'22:45'` → `22`\n",
        "\n",
        "2. **Create Time of Day Categories:**\n",
        "   Based on the extracted hour, categorize the time into one of the following:\n",
        "\n",
        "   | Time Range           | Category   |\n",
        "   |----------------------|------------|\n",
        "   | `5 <= hour < 12`     | Morning ☀️ |\n",
        "   | `12 <= hour < 17`    | Afternoon 🌤️ |\n",
        "   | `17 <= hour < 20`    | Evening 🌆 |\n",
        "   | `20 <= hour < 5`     | Night 🌙 |\n",
        "\n",
        "---\n",
        "\n",
        "📌 **Note:**  \n",
        "Make sure these transformations are done **directly within the dataset**, and use this **modified dataset** for all the upcoming tasks.\n"
      ],
      "metadata": {
        "id": "HbDcJDRq_yIt"
      }
    },
    {
      "cell_type": "code",
      "source": [
        "def category(time_str):\n",
        "    try:\n",
        "        hour = int(str(time_str).split(':')[0])\n",
        "\n",
        "        if 5 <= hour < 12:\n",
        "            return \"Morning\"\n",
        "        elif 12 <= hour < 17:\n",
        "            return \"Afternoon\"\n",
        "        elif 17 <= hour < 20:\n",
        "            return \"Evening\"\n",
        "        else:\n",
        "            return \"Night\"\n",
        "    except:\n",
        "        return \"Unknown\"\n"
      ],
      "metadata": {
        "id": "eJiMz0hd_yn0"
      },
      "execution_count": null,
      "outputs": []
    },
    {
      "cell_type": "markdown",
      "source": [
        "How many flights started in the Morning and arrived the destination at Evening?\n"
      ],
      "metadata": {
        "id": "44UgJtZTAfvf"
      }
    },
    {
      "cell_type": "code",
      "source": [
        "df.columns = df.columns.str.strip()\n",
        "count = df[\n",
        "    (df[\"Dep_Time\"].apply(category) == \"Morning\") &\n",
        "    (df[\"Arrival_Time\"].apply(category) == \"Evening\")\n",
        "].shape[0]\n",
        "\n",
        "count"
      ],
      "metadata": {
        "id": "PC7FATAmAgG1",
        "colab": {
          "base_uri": "https://localhost:8080/"
        },
        "outputId": "cc139365-2123-4ed9-a39e-0005df00d750"
      },
      "execution_count": null,
      "outputs": [
        {
          "output_type": "execute_result",
          "data": {
            "text/plain": [
              "922"
            ]
          },
          "metadata": {},
          "execution_count": 44
        }
      ]
    },
    {
      "cell_type": "markdown",
      "source": [
        "Encode the values of column 'WeekDay' as follows:\n",
        "Weekends (Sunday, Saturday) = 1\n",
        "all remaining five days = 0\n",
        "What is the most frequent (mode) WeekDay?"
      ],
      "metadata": {
        "id": "GuiX-HAzAhyR"
      }
    },
    {
      "cell_type": "code",
      "source": [
        "df['WeekDay_Encoded'] = df['WeekDay'].apply(lambda x: 1 if x in ['Saturday', 'Sunday'] else 0)\n"
      ],
      "metadata": {
        "id": "vROyWE-RAiGb"
      },
      "execution_count": null,
      "outputs": []
    },
    {
      "cell_type": "code",
      "source": [
        "most_frequent_day = df['WeekDay'].mode()[0]\n",
        "\n",
        "print(\"Most frequent WeekDay:\", most_frequent_day)\n"
      ],
      "metadata": {
        "colab": {
          "base_uri": "https://localhost:8080/"
        },
        "id": "3MR7v_49JiH7",
        "outputId": "4016a2f3-2518-4f90-9eaf-5988145b35f1"
      },
      "execution_count": null,
      "outputs": [
        {
          "output_type": "stream",
          "name": "stdout",
          "text": [
            "Most frequent WeekDay: Wednesday\n"
          ]
        }
      ]
    }
  ]
}